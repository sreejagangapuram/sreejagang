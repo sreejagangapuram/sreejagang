{
 "cells": [
  {
   "cell_type": "markdown",
   "metadata": {},
   "source": [
    "---\n",
    "comments: true\n",
    "layout: post\n",
    "title: CSA Guest Speakers Extra Credit Write Up\n",
    "description: My write up on the guest speaker vent.\n",
    "courses: { csse: {week: 0}, csp: {week: 0}, csa: {week: 0}, labnotebook: {week: 4} }\n",
    "type: tangibles\n",
    "---"
   ]
  },
  {
   "cell_type": "markdown",
   "metadata": {},
   "source": [
    "# Girls in CS Guest Speakers Write Up\n",
    "## Introductions of Speakers \n",
    "The first speaker is Colin. Colin is in his third year studying mechanical engineering at UCSD. He has experience with GitHub, Scrum, and Agile methodologies. Colin's teamwork skills have been very important in his academic journey. The next person that spoke was Tristan, he goes to Miramar Community College. He is pursuing a major in Computer Science. He used his CSA and CSP knowledge in his job. The next speaker is Mabel, she is a Cognitive Science major with a focus on machine learning and neural composition. She didn't like her CS classes in high school. She interned at Northrop Grumman along with her twin. And lastly, Antony is the final speaker. He mainly talked about his internships, espcially at code ninjas. \n",
    "\n",
    "## College Apps \n",
    "I learned that the process of pursuing computer science can often feel like a lottery. At UCSD, cs is very competitive, and many students don't get accepted. I learned that increasing the number of applications I submit increases my chances of getting into a college. UCSD has a strong cognitive science and computer science programs. But, switching into the computer science department is also a lottery. It is imporant to explore related fields like data science and cognitive science. I also learned the importance of showcasing my projects and experiences in my college applications. I should build a portfolio that shows my skills. During interviews, I need to talk about my projects and show my dedication to cs. \n",
    "\n",
    "## Internships and Jobs \n",
    "During the internships and jobs section of the presentation, I learned about the importance of projects and building simple and fun things. A speaker got into cs late, only started junior year, and look csp and csa at our school. He took a lot of time coding programming projects. He also advised to spend some extra time building projects - start off building small, and search up on youtube and present this to hirers. He also advised to deploy on versel, get a link, send to anyone. Having something tangible and something to show is very important. An idea for a project is to find a website or company that they have already done and improve on it, make a study on just that thing, and write how can change it and why. In addition, I learned to do a lot of leet code, it is tough, but companies will not hire you unless you’re good at leetcode. It is important to understand all of the algorithms. \n",
    "\n",
    "## Personal Projects \n",
    "In the setion about personal projects, they talked about using APIs. One speaker talked about how he deployed neural networks and deployed models (trained them). He also talked about tools as cheat codes which included vercel which is a deployment tool, it is easy streamlined, easy to make projects, sveltkit is a web development site, and lastly he also talked about tailwind css. He also advised to make a personal website get a domain and put all projects on it and introduce technical skills into the framework. \n",
    "\n",
    "# Q&A Section \n",
    "You can pull company projects from UI/UX uber and redesign their app. You could also pick a random company and look at desired skills section. Make sure to watch youtube videos from the channel hyperplexed which have awesome redesign videos. In addition, some helpful tools include using chatGPT to find errors. Also make a portfolio, which include lessons learned and additional documentation. Lastly, for internships look at linkdin and make a profile and ask people for internships in the tech industry. Get your resume out and maybe have someone at a company refer you. Apply to smaller startups and spam to get many applications.\n",
    "\n",
    "# Picture of the Speaker Event "
   ]
  }
 ],
 "metadata": {
  "kernelspec": {
   "display_name": "JavaScript (Node.js)",
   "language": "javascript",
   "name": "javascript"
  },
  "language_info": {
   "name": "javascript"
  },
  "orig_nbformat": 4
 },
 "nbformat": 4,
 "nbformat_minor": 2
}
