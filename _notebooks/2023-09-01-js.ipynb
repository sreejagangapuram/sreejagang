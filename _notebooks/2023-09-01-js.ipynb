{
 "cells": [
  {
   "cell_type": "markdown",
   "metadata": {},
   "source": [
    "---\n",
    "comments: true\n",
    "layout: post\n",
    "title: JavaScript Game\n",
    "description: A word guessing game in javascript. \n",
    "courses: { csse: {week: 0}, csp: {week: 0}, csa: {week: 0}, labnotebook: {week: 2} }\n",
    "type: tangibles\n",
    "---"
   ]
  },
  {
   "cell_type": "markdown",
   "metadata": {},
   "source": [
    "# JS Word Guessing Game"
   ]
  },
  {
   "cell_type": "code",
   "execution_count": null,
   "metadata": {},
   "outputs": [
    {
     "ename": "",
     "evalue": "",
     "output_type": "error",
     "traceback": [
      "\u001b[1;31mFailed to start the Kernel. \n",
      "\u001b[1;31mnode:internal/modules/cjs/loader:1051\n",
      "\u001b[1;31m  throw err;\n",
      "\u001b[1;31m  ^\n",
      "\u001b[1;31m\n",
      "\u001b[1;31mError: Cannot find module 'zeromq'\n",
      "\u001b[1;31mRequire stack:\n",
      "\u001b[1;31m- /opt/homebrew/lib/node_modules/ijavascript/node_modules/jmp/index.js\n",
      "\u001b[1;31m- /opt/homebrew/lib/node_modules/ijavascript/node_modules/jp-kernel/lib/jp-kernel.js\n",
      "\u001b[1;31m- /opt/homebrew/lib/node_modules/ijavascript/node_modules/jp-kernel/index.js\n",
      "\u001b[1;31m- /opt/homebrew/lib/node_modules/ijavascript/lib/kernel.js\n",
      "\u001b[1;31m    at Module._resolveFilename (node:internal/modules/cjs/loader:1048:15)\n",
      "\u001b[1;31m    at Module._load (node:internal/modules/cjs/loader:901:27)\n",
      "\u001b[1;31m    at Module.require (node:internal/modules/cjs/loader:1115:19)\n",
      "\u001b[1;31m    at require (node:internal/modules/helpers:130:18)\n",
      "\u001b[1;31m    at Object.<anonymous> (/opt/homebrew/lib/node_modules/ijavascript/node_modules/jmp/index.js:37:11)\n",
      "\u001b[1;31m    at Module._compile (node:internal/modules/cjs/loader:1233:14)\n",
      "\u001b[1;31m    at Module._extensions..js (node:internal/modules/cjs/loader:1287:10)\n",
      "\u001b[1;31m    at Module.load (node:internal/modules/cjs/loader:1091:32)\n",
      "\u001b[1;31m    at Module._load (node:internal/modules/cjs/loader:938:12)\n",
      "\u001b[1;31m    at Module.require (node:internal/modules/cjs/loader:1115:19) {\n",
      "\u001b[1;31m  code: 'MODULE_NOT_FOUND',\n",
      "\u001b[1;31m  requireStack: [\n",
      "\u001b[1;31m    '/opt/homebrew/lib/node_modules/ijavascript/node_modules/jmp/index.js',\n",
      "\u001b[1;31m    '/opt/homebrew/lib/node_modules/ijavascript/node_modules/jp-kernel/lib/jp-kernel.js',\n",
      "\u001b[1;31m    '/opt/homebrew/lib/node_modules/ijavascript/node_modules/jp-kernel/index.js',\n",
      "\u001b[1;31m    '/opt/homebrew/lib/node_modules/ijavascript/lib/kernel.js'\n",
      "\u001b[1;31m  ]\n",
      "\u001b[1;31m}\n",
      "\u001b[1;31m\n",
      "\u001b[1;31mNode.js v20.5.1. \n",
      "\u001b[1;31mView Jupyter <a href='command:jupyter.viewOutput'>log</a> for further details."
     ]
    }
   ],
   "source": [
    "// Define an array of words to guess\n",
    "var words = [\"javascript\", \"html\", \"css\", \"python\", \"java\", \"ruby\"];\n",
    "\n",
    "// Choose a random word from the array\n",
    "var word = words[Math.floor(Math.random() * words.length)];\n",
    "\n",
    "// Create an array of underscores to represent each letter in the word\n",
    "var answerArray = [];\n",
    "for (var i = 0; i < word.length; i++) {\n",
    "    answerArray[i] = \"_\";\n",
    "}\n",
    "\n",
    "// Display the initial state of the word\n",
    "document.getElementById(\"feedback\").innerHTML = answerArray.join(\" \");\n",
    "\n",
    "// Function to check the user's guess\n",
    "function checkGuess() {\n",
    "    var guess = document.getElementById(\"guess\").value.toLowerCase();\n",
    "    var correctGuess = false;\n",
    "\n",
    "    // Check if the guess is correct\n",
    "    for (var i = 0; i < word.length; i++) {\n",
    "        if (guess === word[i]) {\n",
    "            answerArray[i] = guess;\n",
    "            correctGuess = true;\n",
    "        }\n",
    "    }\n",
    "\n",
    "    // Update the display\n",
    "    document.getElementById(\"feedback\").innerHTML = answerArray.join(\" \");\n",
    "\n",
    "    // Check if the game is over\n",
    "    if (!answerArray.includes(\"_\")) {\n",
    "        document.getElementById(\"feedback\").innerHTML = \"You win!\";\n",
    "    } else if (!correctGuess) {\n",
    "        document.getElementById(\"feedback\").innerHTML = \"Wrong guess, try again.\";\n",
    "    }\n",
    "\n",
    "    // Clear the guess input\n",
    "    document.getElementById(\"guess\").value = \"\";\n",
    "}\n"
   ]
  }
 ],
 "metadata": {
  "kernelspec": {
   "display_name": "JavaScript (Node.js)",
   "language": "javascript",
   "name": "javascript"
  },
  "language_info": {
   "name": "javascript"
  },
  "orig_nbformat": 4
 },
 "nbformat": 4,
 "nbformat_minor": 2
}
