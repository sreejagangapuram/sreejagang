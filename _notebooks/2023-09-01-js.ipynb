{
 "cells": [
  {
   "cell_type": "markdown",
   "metadata": {},
   "source": [
    "---\n",
    "comments: true\n",
    "layout: post\n",
    "title: JavaScript Game\n",
    "description: A word guessing game in javascript. \n",
    "courses: { csse: {week: 0}, csp: {week: 0}, csa: {week: 0}, labnotebook: {week: 2} }\n",
    "type: tangibles\n",
    "---"
   ]
  },
  {
   "cell_type": "markdown",
   "metadata": {},
   "source": [
    "# JS Word Guessing Game"
   ]
  },
  {
   "cell_type": "code",
   "execution_count": 1,
   "metadata": {
    "vscode": {
     "languageId": "javascript"
    }
   },
   "outputs": [
    {
     "ename": "SyntaxError",
     "evalue": "unterminated string literal (detected at line 16) (190364821.py, line 16)",
     "output_type": "error",
     "traceback": [
      "\u001b[0;36m  Cell \u001b[0;32mIn[1], line 16\u001b[0;36m\u001b[0m\n\u001b[0;31m    // Function to check the user's guess\u001b[0m\n\u001b[0m                                 ^\u001b[0m\n\u001b[0;31mSyntaxError\u001b[0m\u001b[0;31m:\u001b[0m unterminated string literal (detected at line 16)\n"
     ]
    }
   ],
   "source": [
    "// Define an array of words to guess\n",
    "var words = [\"javascript\", \"html\", \"css\", \"python\", \"java\", \"ruby\"];\n",
    "\n",
    "// Choose a random word from the array\n",
    "var word = words[Math.floor(Math.random() * words.length)];\n",
    "\n",
    "// Create an array of underscores to represent each letter in the word\n",
    "var answerArray = [];\n",
    "for (var i = 0; i < word.length; i++) {\n",
    "    answerArray[i] = \"_\";\n",
    "}\n",
    "\n",
    "// Display the initial state of the word\n",
    "document.getElementById(\"feedback\").innerHTML = answerArray.join(\" \");\n",
    "\n",
    "// Function to check the user's guess\n",
    "function checkGuess() {\n",
    "    var guess = document.getElementById(\"guess\").value.toLowerCase();\n",
    "    var correctGuess = false;\n",
    "\n",
    "    // Check if the guess is correct\n",
    "    for (var i = 0; i < word.length; i++) {\n",
    "        if (guess === word[i]) {\n",
    "            answerArray[i] = guess;\n",
    "            correctGuess = true;\n",
    "        }\n",
    "    }\n",
    "\n",
    "    // Update the display\n",
    "    document.getElementById(\"feedback\").innerHTML = answerArray.join(\" \");\n",
    "\n",
    "    // Check if the game is over\n",
    "    if (!answerArray.includes(\"_\")) {\n",
    "        document.getElementById(\"feedback\").innerHTML = \"You win!\";\n",
    "    } else if (!correctGuess) {\n",
    "        document.getElementById(\"feedback\").innerHTML = \"Wrong guess, try again.\";\n",
    "    }\n",
    "\n",
    "    // Clear the guess input\n",
    "    document.getElementById(\"guess\").value = \"\";\n",
    "}\n"
   ]
  }
 ],
 "metadata": {
  "kernelspec": {
   "display_name": "Python 3",
   "language": "python",
   "name": "python3"
  },
  "language_info": {
   "codemirror_mode": {
    "name": "ipython",
    "version": 3
   },
   "file_extension": ".py",
   "mimetype": "text/x-python",
   "name": "python",
   "nbconvert_exporter": "python",
   "pygments_lexer": "ipython3",
   "version": "3.11.5"
  },
  "orig_nbformat": 4
 },
 "nbformat": 4,
 "nbformat_minor": 2
}
