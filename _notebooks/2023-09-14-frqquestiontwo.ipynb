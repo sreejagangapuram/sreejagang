{
 "cells": [
  {
   "cell_type": "markdown",
   "metadata": {},
   "source": [
    "---\n",
    "comments: true\n",
    "layout: post\n",
    "title: FRQ Number 2\n",
    "description: the ap exam's frq number 2 \n",
    "courses: { csse: {week: 0}, csp: {week: 0}, csa: {week: 0}, labnotebook: {week: 4} }\n",
    "type: tangibles\n",
    "---"
   ]
  },
  {
   "cell_type": "markdown",
   "metadata": {},
   "source": [
    "# FRQ Number 2: Classes \n",
    "\n",
    "![image](https://github.com/sreejagangapuram/sreejagang/blob/6a016c8f94a6d40a3f8f7a8681ac8f379198d60e/images/ek.png)?raw=true\n",
    "\n",
    "![image](https://github.com/sreejagangapuram/sreejagang/blob/6a016c8f94a6d40a3f8f7a8681ac8f379198d60e/images/do.png)?raw=true\n",
    "\n",
    "You are required by this FRQ to create a whole class, complete with all necessary variables and methods, according to specified instructions.\n"
   ]
  },
  {
   "cell_type": "markdown",
   "metadata": {},
   "source": [
    "# Requirements \n",
    "Class Description: Develop a Sign class.\n",
    "\n",
    "Constructor: The class should have a constructor that accepts two arguments:\n",
    "1. A string message to be presented on the sign.\n",
    "2. An integer representing the line width for each line on the sign.\n",
    "\n",
    "numberOfLines Method: Create a method named numberOfLines, which calculates and provides the count of lines required to exhibit the message on the sign.\n",
    "\n",
    "getLines Method: Implement a method named getLines that divides the message into lines separated by semicolons (;) or returns None if the message is empty. Ensure that no semicolon appears at the end of the resulting string.\n",
    "\n",
    "Testing: Instantiate instances of the Sign class with varying parameters and conduct tests on the numberOfLines and getLines methods to verify their correctness."
   ]
  },
  {
   "cell_type": "code",
   "execution_count": 1,
   "metadata": {},
   "outputs": [
    {
     "name": "stdout",
     "output_type": "stream",
     "text": [
      "Sign 1:\n",
      "Number of lines: 2\n",
      "Message lines: Hello, Wor;ld!\n",
      "\n",
      "Sign 2:\n",
      "Number of lines: 5\n",
      "Message lines: This ;is a ;test ;messa;ge.\n",
      "\n",
      "Sign 3:\n",
      "Number of lines: 0\n",
      "Message lines: None\n"
     ]
    }
   ],
   "source": [
    "class Sign:\n",
    "    def __init__(self, message, width):\n",
    "        self.message = message\n",
    "        self.width = width\n",
    "\n",
    "    def numberOfLines(self):\n",
    "        if not self.message:\n",
    "            return 0\n",
    "        return (len(self.message) + self.width - 1) // self.width\n",
    "\n",
    "    def getLines(self):\n",
    "        if not self.message:\n",
    "            return None\n",
    "\n",
    "        lines = [self.message[i:i + self.width] for i in range(0, len(self.message), self.width)]\n",
    "        return ';'.join(lines)\n",
    "\n",
    "# Testing the Sign class\n",
    "if __name__ == \"__main__\":\n",
    "    # Create instances of the Sign class with different parameters\n",
    "    sign1 = Sign(\"Hello, World!\", 10)\n",
    "    sign2 = Sign(\"This is a test message.\", 5)\n",
    "    sign3 = Sign(\"\", 8)  # Empty message\n",
    "    \n",
    "    # Test the numberOfLines and getLines methods\n",
    "    print(\"Sign 1:\")\n",
    "    print(\"Number of lines:\", sign1.numberOfLines())\n",
    "    print(\"Message lines:\", sign1.getLines())\n",
    "\n",
    "    print(\"\\nSign 2:\")\n",
    "    print(\"Number of lines:\", sign2.numberOfLines())\n",
    "    print(\"Message lines:\", sign2.getLines())\n",
    "\n",
    "    print(\"\\nSign 3:\")\n",
    "    print(\"Number of lines:\", sign3.numberOfLines())\n",
    "    print(\"Message lines:\", sign3.getLines())\n"
   ]
  },
  {
   "cell_type": "markdown",
   "metadata": {},
   "source": [
    "# Explanation of Code \n",
    "- The Sign class is defined with a constructor that takes two parameters: message (a string to be displayed on the sign) and width (an integer representing the width of each line on the sign).\n",
    "- The numberOfLines method calculates and returns the number of lines needed to display the text on the sign. It checks if the message is empty and handles that case accordingly.\n",
    "- The getLines method breaks the message into lines of the specified width, separated by semicolons (;), or returns None if the message is empty. It uses list comprehension to split the message into lines and then joins them using semicolons.\n",
    "- In the testing section, three instances of the Sign class are created with different parameters. The numberOfLines and getLines methods are called on each instance to test their behavior.\n",
    "- The output of the testing section demonstrates how the numberOfLines and getLines methods work for various cases, including an empty message."
   ]
  }
 ],
 "metadata": {
  "kernelspec": {
   "display_name": "Python 3",
   "language": "python",
   "name": "python3"
  },
  "language_info": {
   "codemirror_mode": {
    "name": "ipython",
    "version": 3
   },
   "file_extension": ".py",
   "mimetype": "text/x-python",
   "name": "python",
   "nbconvert_exporter": "python",
   "pygments_lexer": "ipython3",
   "version": "3.11.5"
  },
  "orig_nbformat": 4
 },
 "nbformat": 4,
 "nbformat_minor": 2
}
