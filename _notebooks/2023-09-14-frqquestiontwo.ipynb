{
 "cells": [
  {
   "cell_type": "markdown",
   "metadata": {},
   "source": [
    "---\n",
    "comments: true\n",
    "layout: post\n",
    "title: FRQ Number 2\n",
    "description: the ap exam's frq number 2 \n",
    "courses: { csse: {week: 0}, csp: {week: 0}, csa: {week: 0}, labnotebook: {week: 4} }\n",
    "type: tangibles\n",
    "---"
   ]
  },
  {
   "cell_type": "markdown",
   "metadata": {},
   "source": [
    "# FRQ Number 2: Classes \n",
    "\n",
    "![image](https://github.com/sreejagangapuram/sreejagang/blob/6a016c8f94a6d40a3f8f7a8681ac8f379198d60e/images/ek.png)?raw=true\n",
    "\n",
    "![image](https://github.com/sreejagangapuram/sreejagang/blob/6a016c8f94a6d40a3f8f7a8681ac8f379198d60e/images/do.png)?raw=true"
   ]
  }
 ],
 "metadata": {
  "language_info": {
   "name": "python"
  },
  "orig_nbformat": 4
 },
 "nbformat": 4,
 "nbformat_minor": 2
}
