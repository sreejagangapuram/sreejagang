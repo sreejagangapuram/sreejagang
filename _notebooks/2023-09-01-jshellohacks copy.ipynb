{
 "cells": [
  {
   "cell_type": "markdown",
   "metadata": {},
   "source": [
    "---\n",
    "comments: true\n",
    "layout: post\n",
    "title: JavaScript Hello Hacks\n",
    "description: My hacks for java hello. \n",
    "courses: { csse: {week: 0}, csp: {week: 0}, csa: {week: 0}, labnotebook: {week: 2} }\n",
    "type: tangibles\n",
    "---"
   ]
  },
  {
   "cell_type": "markdown",
   "metadata": {},
   "source": [
    "# Java Classes"
   ]
  },
  {
   "cell_type": "markdown",
   "metadata": {},
   "source": [
    "![image](https://github.com/sreejagangapuram/sg/blob/78cb87fb502afc754b272e88a7f7d876b57b5def/images/uppers.png?raw=true)\n"
   ]
  },
  {
   "cell_type": "markdown",
   "metadata": {},
   "source": [
    "# Object-Oriented Programming (OOP)\n",
    "- is a methodology for designing and utilizing models of real or conceptual objects.\n",
    "- A \"class\" serves as a programmer-defined template for generating objects.\n",
    "- \"Camel case\" is a naming convention in which the first letter of the first word can be uppercase or lowercase, with subsequent words starting with uppercase letters.\n",
    "- In Java, letter casing is significant, making it case sensitive.\n",
    "- The \"public\" keyword indicates that a class can be accessed from any part of the program."
   ]
  },
  {
   "cell_type": "markdown",
   "metadata": {},
   "source": [
    "# Creating Objects:\n",
    "- A \"class\" is essentially a blueprint that comprises attributes and instructions on how to construct an instance of itself.\n",
    "- \"Attributes\" represent the specific characteristics of an object.\n",
    "- \"Behaviors\" are the actions that an object is capable of performing.\n",
    "- An \"object\" is an individual occurrence of the class.\n",
    "- To create an object, you \"instantiate\" it, which involves invoking the constructor.\n",
    "- A \"constructor\" is a code block with the same name as the class, guiding the computer on how to generate a new object.\n",
    "\n",
    "Example of Creating Objects:\n",
    "\n",
    "- Demonstrating the process of creating objects."
   ]
  },
  {
   "cell_type": "code",
   "execution_count": null,
   "metadata": {},
   "outputs": [],
   "source": [
    "// Define a constructor function for Book objects\n",
    "function Book(title, author, publicationYear) {\n",
    "    this.title = title;\n",
    "    this.author = author;\n",
    "    this.publicationYear = publicationYear;\n",
    "  }\n",
    "  \n",
    "  // Create book objects using the constructor\n",
    "  const book1 = new Book(\"The Great Gatsby\", \"F. Scott Fitzgerald\", 1925);\n",
    "  const book2 = new Book(\"To Kill a Mockingbird\", \"Harper Lee\", 1960);\n",
    "  \n",
    "  // Access and display book properties\n",
    "  console.log(book1.title); // Output: \"The Great Gatsby\"\n",
    "  console.log(book2.author); // Output: \"Harper Lee\"  "
   ]
  },
  {
   "cell_type": "markdown",
   "metadata": {},
   "source": [
    "# Calling Methods:\n",
    "- A \"method\" is a named collection of instructions designed to carry out a particular task or operation.\n",
    "- Within a method, a \"parameter\" is a variable that specifies the type of value it expects to receive when the method is invoked."
   ]
  },
  {
   "cell_type": "markdown",
   "metadata": {},
   "source": [
    "# Static Example \n",
    "- **Class Blueprint:** A \"class\" is like a blueprint for code, representing the code's definition, and it must be invoked to execute.\n",
    "- **Method Execution:** A \"method,\" especially a \"static method\" in this context, is the code that gets executed, akin to a procedure.\n",
    "- **Method Definition:** The \"method definition\" or \"signature\" consists of the keywords \"public static void\" before the name \"main\" and the parameters \"String[] args\" after the name.\n",
    "- **Method Invocation:** A \"method call\" is the way we trigger the pre-defined code to run."
   ]
  },
  {
   "cell_type": "code",
   "execution_count": null,
   "metadata": {},
   "outputs": [],
   "source": [
    "class MathUtilities {\n",
    "    // Static method to calculate the square of a number\n",
    "    static square(number) {\n",
    "      return number * number;\n",
    "    }\n",
    "  }\n",
    "  \n",
    "  // Calling the static method without creating an instance of the class\n",
    "  const result = MathUtilities.square(5);\n",
    "  console.log(`The square of 5 is ${result}`);  "
   ]
  },
  {
   "cell_type": "markdown",
   "metadata": {},
   "source": [
    "# Dynamic Example \n",
    "- **Object-Oriented Programming (OOP):** OOP centers on designing software based on data, which is encapsulated within objects.\n",
    "- **Object Composition:** An \"object\" encompasses both methods and data, creating a self-contained unit.\n",
    "- **Creating Object Instances:** Generating an \"instance of a class\" means creating a unique object; it's like creating individual variables within the object.\n",
    "- **Constructor:** A \"constructor\" is a special method within a class that initializes the object's data.\n",
    "- **Getter Method:** A \"getter\" is a method used to retrieve or reference data from within the object, ensuring controlled access to its internal data."
   ]
  },
  {
   "cell_type": "code",
   "execution_count": null,
   "metadata": {},
   "outputs": [],
   "source": [
    "<html>\n",
    "<head>\n",
    "    <title>Dynamic Example</title>\n",
    "</head>\n",
    "<body>\n",
    "    <button id=\"dynamicButton\">Click Me</button>\n",
    "    <p id=\"dynamicText\"></p>\n",
    "\n",
    "    <script>\n",
    "        // JavaScript code to make the button dynamic\n",
    "        const button = document.getElementById('dynamicButton');\n",
    "        const textElement = document.getElementById('dynamicText');\n",
    "\n",
    "        button.addEventListener('click', () => {\n",
    "            textElement.textContent = 'Hello, Dynamic World!';\n",
    "        });\n",
    "    </script>\n",
    "</body>\n",
    "</html>"
   ]
  },
  {
   "cell_type": "markdown",
   "metadata": {},
   "source": [
    "# Own Static Class"
   ]
  },
  {
   "cell_type": "code",
   "execution_count": null,
   "metadata": {},
   "outputs": [],
   "source": [
    "var WordGuessGame = {\n",
    "    // Define an array of words to guess\n",
    "    words: [\"javascript\", \"html\", \"css\", \"python\", \"java\", \"ruby\"],\n",
    "    \n",
    "    // Choose a random word from the array\n",
    "    word: this.words[Math.floor(Math.random() * this.words.length)],\n",
    "    \n",
    "    // Create an array of underscores to represent each letter in the word\n",
    "    answerArray: [],\n",
    "\n",
    "    // Initialize the game\n",
    "    init: function () {\n",
    "        for (var i = 0; i < this.word.length; i++) {\n",
    "            this.answerArray[i] = \"_\";\n",
    "        }\n",
    "        document.getElementById(\"feedback\").innerHTML = this.answerArray.join(\" \");\n",
    "    },\n",
    "    \n",
    "    // Function to check the user's guess\n",
    "    checkGuess: function () {\n",
    "        var guess = document.getElementById(\"guess\").value.toLowerCase();\n",
    "        var correctGuess = false;\n",
    "        \n",
    "        // Check if the guess is correct\n",
    "        for (var i = 0; i < this.word.length; i++) {\n",
    "            if (guess === this.word[i]) {\n",
    "                this.answerArray[i] = guess;\n",
    "                correctGuess = true;\n",
    "            }\n",
    "        }\n",
    "\n",
    "        // Update the display\n",
    "        document.getElementById(\"feedback\").innerHTML = this.answerArray.join(\" \");\n",
    "        \n",
    "        // Check if the game is over\n",
    "        if (!this.answerArray.includes(\"_\")) {\n",
    "            document.getElementById(\"feedback\").innerHTML = \"You win!\";\n",
    "        } else if (!correctGuess) {\n",
    "            document.getElementById(\"feedback\").innerHTML = \"Wrong guess, try again.\";\n",
    "        }\n",
    "\n",
    "        // Clear the guess input\n",
    "        document.getElementById(\"guess\").value = \"\";\n",
    "    }\n",
    "};\n",
    "\n",
    "// Initialize the game\n",
    "WordGuessGame.init();"
   ]
  },
  {
   "cell_type": "markdown",
   "metadata": {},
   "source": [
    "# Own Dynamic Class"
   ]
  },
  {
   "cell_type": "code",
   "execution_count": null,
   "metadata": {},
   "outputs": [
    {
     "ename": "",
     "evalue": "",
     "output_type": "error",
     "traceback": [
      "\u001b[1;31mFailed to start the Kernel. \n",
      "\u001b[1;31mnode:internal/modules/cjs/loader:1051\n",
      "\u001b[1;31m  throw err;\n",
      "\u001b[1;31m  ^\n",
      "\u001b[1;31m\n",
      "\u001b[1;31mError: Cannot find module 'zeromq'\n",
      "\u001b[1;31mRequire stack:\n",
      "\u001b[1;31m- /opt/homebrew/lib/node_modules/ijavascript/node_modules/jmp/index.js\n",
      "\u001b[1;31m- /opt/homebrew/lib/node_modules/ijavascript/node_modules/jp-kernel/lib/jp-kernel.js\n",
      "\u001b[1;31m- /opt/homebrew/lib/node_modules/ijavascript/node_modules/jp-kernel/index.js\n",
      "\u001b[1;31m- /opt/homebrew/lib/node_modules/ijavascript/lib/kernel.js\n",
      "\u001b[1;31m    at Module._resolveFilename (node:internal/modules/cjs/loader:1048:15)\n",
      "\u001b[1;31m    at Module._load (node:internal/modules/cjs/loader:901:27)\n",
      "\u001b[1;31m    at Module.require (node:internal/modules/cjs/loader:1115:19)\n",
      "\u001b[1;31m    at require (node:internal/modules/helpers:130:18)\n",
      "\u001b[1;31m    at Object.<anonymous> (/opt/homebrew/lib/node_modules/ijavascript/node_modules/jmp/index.js:37:11)\n",
      "\u001b[1;31m    at Module._compile (node:internal/modules/cjs/loader:1233:14)\n",
      "\u001b[1;31m    at Module._extensions..js (node:internal/modules/cjs/loader:1287:10)\n",
      "\u001b[1;31m    at Module.load (node:internal/modules/cjs/loader:1091:32)\n",
      "\u001b[1;31m    at Module._load (node:internal/modules/cjs/loader:938:12)\n",
      "\u001b[1;31m    at Module.require (node:internal/modules/cjs/loader:1115:19) {\n",
      "\u001b[1;31m  code: 'MODULE_NOT_FOUND',\n",
      "\u001b[1;31m  requireStack: [\n",
      "\u001b[1;31m    '/opt/homebrew/lib/node_modules/ijavascript/node_modules/jmp/index.js',\n",
      "\u001b[1;31m    '/opt/homebrew/lib/node_modules/ijavascript/node_modules/jp-kernel/lib/jp-kernel.js',\n",
      "\u001b[1;31m    '/opt/homebrew/lib/node_modules/ijavascript/node_modules/jp-kernel/index.js',\n",
      "\u001b[1;31m    '/opt/homebrew/lib/node_modules/ijavascript/lib/kernel.js'\n",
      "\u001b[1;31m  ]\n",
      "\u001b[1;31m}\n",
      "\u001b[1;31m\n",
      "\u001b[1;31mNode.js v20.5.1. \n",
      "\u001b[1;31mView Jupyter <a href='command:jupyter.viewOutput'>log</a> for further details."
     ]
    }
   ],
   "source": [
    "// Create a namespace object to encapsulate the game functionality\n",
    "var WordGuessGame = {\n",
    "    // Array of words to guess\n",
    "    words: [\"javascript\", \"html\", \"css\", \"python\", \"java\", \"ruby\"],\n",
    "    \n",
    "    // Function to choose a random word from the array\n",
    "    getRandomWord: function() {\n",
    "        return this.words[Math.floor(Math.random() * this.words.length)];\n",
    "    },\n",
    "\n",
    "    // Function to initialize the game\n",
    "    initialize: function() {\n",
    "        // Choose a random word from the array\n",
    "        this.word = this.getRandomWord();\n",
    "        \n",
    "        // Create an array of underscores to represent each letter in the word\n",
    "        this.answerArray = [];\n",
    "        for (var i = 0; i < this.word.length; i++) {\n",
    "            this.answerArray[i] = \"_\";\n",
    "        }\n",
    "        \n",
    "        // Display the initial state of the word\n",
    "        document.getElementById(\"feedback\").innerHTML = this.answerArray.join(\" \");\n",
    "    },\n",
    "\n",
    "    // Function to check the user's guess\n",
    "    checkGuess: function() {\n",
    "        var guess = document.getElementById(\"guess\").value.toLowerCase();\n",
    "        var correctGuess = false;\n",
    "\n",
    "        // Check if the guess is correct\n",
    "        for (var i = 0; i < this.word.length; i++) {\n",
    "            if (guess === this.word[i]) {\n",
    "                this.answerArray[i] = guess;\n",
    "                correctGuess = true;\n",
    "            }\n",
    "        }\n",
    "\n",
    "        // Update the display\n",
    "        document.getElementById(\"feedback\").innerHTML = this.answerArray.join(\" \");\n",
    "\n",
    "        // Check if the game is over\n",
    "        if (!this.answerArray.includes(\"_\")) {\n",
    "            document.getElementById(\"feedback\").innerHTML = \"You win!\";\n",
    "        } else if (!correctGuess) {\n",
    "            document.getElementById(\"feedback\").innerHTML = \"Wrong guess, try again.\";\n",
    "        }\n",
    "\n",
    "        // Clear the guess input\n",
    "        document.getElementById(\"guess\").value = \"\";\n",
    "    }\n",
    "};\n",
    "\n",
    "// Initialize the game\n",
    "WordGuessGame.initialize();\n"
   ]
  }
 ],
 "metadata": {
  "kernelspec": {
   "display_name": "JavaScript (Node.js)",
   "language": "javascript",
   "name": "javascript"
  },
  "language_info": {
   "name": "javascript"
  },
  "orig_nbformat": 4
 },
 "nbformat": 4,
 "nbformat_minor": 2
}
